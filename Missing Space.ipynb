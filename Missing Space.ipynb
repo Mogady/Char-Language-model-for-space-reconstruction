{
 "cells": [
  {
   "cell_type": "markdown",
   "metadata": {},
   "source": [
    "## In this Note book i try the basic sequence to sequence models using the un spaced sentences to recounstruct the spaced sentence "
   ]
  },
  {
   "cell_type": "code",
   "execution_count": null,
   "metadata": {
    "collapsed": true
   },
   "outputs": [],
   "source": [
    "import pandas as pd\n",
    "import numpy as np\n",
    "import operator\n",
    "import string\n",
    "import re\n",
    "import seaborn as sns\n",
    "import matplotlib.pyplot as plt\n",
    "%matplotlib inline "
   ]
  },
  {
   "cell_type": "markdown",
   "metadata": {},
   "source": [
    "### reading the input files traing and test"
   ]
  },
  {
   "cell_type": "code",
   "execution_count": null,
   "metadata": {
    "collapsed": true
   },
   "outputs": [],
   "source": [
    "train = []\n",
    "with open('training_data.txt',encoding='utf-8') as f:\n",
    "    for line in f.readlines():\n",
    "        train.append(line)\n",
    "    train = [line.rstrip('\\n') for line in train]"
   ]
  },
  {
   "cell_type": "code",
   "execution_count": null,
   "metadata": {
    "collapsed": true
   },
   "outputs": [],
   "source": [
    "test = []\n",
    "with open('missing_spaces.txt',encoding='utf-8') as f:\n",
    "    for line in f.readlines():\n",
    "        test.append(line)\n",
    "    test = [line.rstrip('\\n') for line in test]"
   ]
  },
  {
   "cell_type": "code",
   "execution_count": null,
   "metadata": {
    "collapsed": true
   },
   "outputs": [],
   "source": [
    "train_df = pd.DataFrame(train, columns = ['text'])\n",
    "test_df = pd.DataFrame(test, columns = ['text'])"
   ]
  },
  {
   "cell_type": "markdown",
   "metadata": {},
   "source": [
    "### limiting the training data to 100000 sentence and remove the 1 word sentence"
   ]
  },
  {
   "cell_type": "code",
   "execution_count": null,
   "metadata": {
    "collapsed": true
   },
   "outputs": [],
   "source": [
    "train_df = train_df[0:100000]\n",
    "\n",
    "train_df = train_df.sample(frac=1).reset_index(drop=True)\n",
    "\n",
    "train_df['len'] = train_df['text'].apply(lambda x : len(x.split()))\n",
    "\n",
    "train_df = train_df[train_df['len']>1]"
   ]
  },
  {
   "cell_type": "code",
   "execution_count": null,
   "metadata": {
    "collapsed": true
   },
   "outputs": [],
   "source": [
    "max_length = 30"
   ]
  },
  {
   "cell_type": "markdown",
   "metadata": {},
   "source": [
    "### normalize the laten characters to english characters"
   ]
  },
  {
   "cell_type": "code",
   "execution_count": null,
   "metadata": {
    "collapsed": true
   },
   "outputs": [],
   "source": [
    "import unicodedata as ud\n",
    "def strip_accents(text):\n",
    "    return ''.join(char for char in\n",
    "                   ud.normalize('NFKD', text)\n",
    "                   if ud.category(char) != 'Mn')"
   ]
  },
  {
   "cell_type": "markdown",
   "metadata": {},
   "source": [
    "### preprocessing the sentence by removing punctuations , replace numerical expression with NUM, remove all the non ASCII characters , limiting the sentence to 6 words only "
   ]
  },
  {
   "cell_type": "code",
   "execution_count": null,
   "metadata": {
    "collapsed": true
   },
   "outputs": [],
   "source": [
    "from nltk.corpus import stopwords\n",
    "from transliterate import translit, get_available_language_codes\n",
    "stopWords = set(stopwords.words('english'))\n",
    "rn = re.compile(r'(\\w?\\d+.?\\w?\\d+|\\d)[/,-,%]?(\\w?\\d+.?\\w?\\d+|\\d)?')\n",
    "table = str.maketrans(\"\",\"\")\n",
    "def preprocessing(text):\n",
    "    tok = text.split()\n",
    "    ## limiting the sentence to 6 words only\n",
    "    if len(tok)<=6:\n",
    "        text = ' '.join(tok)\n",
    "    else :\n",
    "        text = ' '.join(tok[0:6])\n",
    "    ### normalize the laten and russian.. to english chars\n",
    "    try :\n",
    "        text = translit(text, reversed=True)\n",
    "    except :\n",
    "        text = strip_accents(text)\n",
    "    ### remove punctation\n",
    "    text = text.translate(str.maketrans('','',string.punctuation))\n",
    "    ### replace any other non ASCII charcter with < \n",
    "    text = ''.join([i if ord(i) < 128 else '<' for i in text])\n",
    "    text = ' '.join([word.lower() for word in text.split()])\n",
    "    ### replace numerical expressions with NE\n",
    "    text = rn.sub('NUM',text)\n",
    "    text = text.replace('  ',' ').replace(' ',' ')\n",
    "    text = text.strip()\n",
    "    return text"
   ]
  },
  {
   "cell_type": "code",
   "execution_count": null,
   "metadata": {
    "collapsed": true
   },
   "outputs": [],
   "source": [
    "train_df['ytext'] = train_df['text'].apply(lambda x : preprocessing(x))"
   ]
  },
  {
   "cell_type": "code",
   "execution_count": null,
   "metadata": {
    "collapsed": true
   },
   "outputs": [],
   "source": [
    "train_df['Ntext'] = train_df['ytext'].apply(lambda x : ''.join(x.split(' ')))"
   ]
  },
  {
   "cell_type": "code",
   "execution_count": null,
   "metadata": {},
   "outputs": [],
   "source": [
    "train_df"
   ]
  },
  {
   "cell_type": "code",
   "execution_count": null,
   "metadata": {
    "collapsed": true
   },
   "outputs": [],
   "source": [
    "max_length_x = train_df['Ntext'].map(lambda x: len(x)).max()\n",
    "max_length_y = train_df['ytext'].map(lambda x: len(x)).max()"
   ]
  },
  {
   "cell_type": "code",
   "execution_count": null,
   "metadata": {},
   "outputs": [],
   "source": [
    "max_length_x,max_length_y"
   ]
  },
  {
   "cell_type": "markdown",
   "metadata": {},
   "source": [
    "### Basic encoder decoder taking un space sentence and producing spaced sentence"
   ]
  },
  {
   "cell_type": "code",
   "execution_count": null,
   "metadata": {},
   "outputs": [],
   "source": [
    "from keras.preprocessing.text import Tokenizer\n",
    "from keras.preprocessing.sequence import pad_sequences\n",
    "from keras.models import Model\n",
    "from keras.layers import GRU, Input, Dense, TimeDistributed, Activation, RepeatVector, Bidirectional,LSTM\n",
    "from keras.layers.embeddings import Embedding\n",
    "from keras.optimizers import Adam,RMSprop,SGD\n",
    "from keras.losses import sparse_categorical_crossentropy\n",
    "from keras.regularizers import l1,l2"
   ]
  },
  {
   "cell_type": "code",
   "execution_count": null,
   "metadata": {
    "collapsed": true
   },
   "outputs": [],
   "source": [
    "def tokenize(x):\n",
    "    tokenizer = Tokenizer(char_level=True,lower=False)\n",
    "    tokenizer.fit_on_texts(x)\n",
    "    return tokenizer"
   ]
  },
  {
   "cell_type": "code",
   "execution_count": null,
   "metadata": {
    "collapsed": true
   },
   "outputs": [],
   "source": [
    "def pad(x, length=None):\n",
    "\n",
    "    if not length:\n",
    "        m=len(max(x, key=len))\n",
    "        pad=pad_sequences(x,maxlen=m,padding='post')\n",
    "    else:\n",
    "        pad=pad_sequences(x,maxlen=length,padding='post')\n",
    "    return pad"
   ]
  },
  {
   "cell_type": "code",
   "execution_count": null,
   "metadata": {
    "collapsed": true
   },
   "outputs": [],
   "source": [
    "tk = tokenize(train_df['ytext'])\n",
    "pre_x = tk.texts_to_sequences(train_df['Ntext'])\n",
    "pre_y = tk.texts_to_sequences(train_df['ytext'])\n",
    "pad_x = pad(pre_x,max_length_x)\n",
    "pad_y = pad(pre_y,max_length_y)"
   ]
  },
  {
   "cell_type": "code",
   "execution_count": null,
   "metadata": {},
   "outputs": [],
   "source": [
    "tk.word_index"
   ]
  },
  {
   "cell_type": "code",
   "execution_count": null,
   "metadata": {
    "collapsed": true
   },
   "outputs": [],
   "source": [
    "pad_y = pad_y.reshape(*pad_y.shape, 1)"
   ]
  },
  {
   "cell_type": "code",
   "execution_count": null,
   "metadata": {},
   "outputs": [],
   "source": [
    "max_input_sequence_length = pad_x.shape[1]\n",
    "max_output_sequence_length = pad_y.shape[1]\n",
    "input_vocab_size = len(tk.word_index)\n",
    "\n",
    "print('Data Preprocessed')\n",
    "print(\"Max input sentence length:\", max_input_sequence_length)\n",
    "print(\"Max output sentence length:\", max_output_sequence_length)\n",
    "print(\"input vocabulary size:\", input_vocab_size)"
   ]
  },
  {
   "cell_type": "code",
   "execution_count": null,
   "metadata": {},
   "outputs": [],
   "source": [
    "def logits_to_text(logits, tokenizer):\n",
    "\n",
    "    index_to_words = {id: char for char, id in tokenizer.word_index.items()}\n",
    "    index_to_words[0] = '<PAD>'\n",
    "\n",
    "    return ''.join([index_to_words[prediction] for prediction in np.argmax(logits, 1)])\n",
    "\n",
    "print('`logits_to_text` function loaded.')"
   ]
  },
  {
   "cell_type": "code",
   "execution_count": null,
   "metadata": {},
   "outputs": [],
   "source": [
    "pad_y.shape"
   ]
  },
  {
   "cell_type": "code",
   "execution_count": null,
   "metadata": {},
   "outputs": [],
   "source": [
    "pad_y.shape[-2]"
   ]
  },
  {
   "cell_type": "code",
   "execution_count": null,
   "metadata": {
    "collapsed": true
   },
   "outputs": [],
   "source": [
    "# tmp_x = tmp_x.reshape((-1, pad_y.shape[-2], 1))\n",
    "tmp_x = pad(pad_x, max_output_sequence_length)"
   ]
  },
  {
   "cell_type": "code",
   "execution_count": null,
   "metadata": {},
   "outputs": [],
   "source": [
    "def encdec_model(input_shape, output_sequence_length, input_vocab_size):\n",
    "\n",
    "    learning_rate = .00000011\n",
    "    inputs = Input(shape=(output_sequence_length,))\n",
    "    encoded_inputs= Embedding(input_vocab_size, input_vocab_size+1)(inputs)\n",
    "    encoder1 = LSTM(10)(encoded_inputs)\n",
    "    encoder2 = RepeatVector(output_sequence_length)(encoder1)\n",
    "    decoder = LSTM(10,return_sequences=True)(encoder2)\n",
    "    outputs = TimeDistributed(Dense(input_vocab_size, \n",
    "                                    activation='softmax'))(decoder)\n",
    "\n",
    "    model = Model(inputs=inputs, outputs=outputs)\n",
    "    model.compile(\n",
    "        loss=sparse_categorical_crossentropy,\n",
    "        optimizer=RMSprop(lr=0.01, clipvalue=1),\n",
    "        metrics=['accuracy']\n",
    "    )\n",
    "    print(model.summary())\n",
    "    return model\n",
    "\n",
    "# Train the neural network\n",
    "encdec_rnn_model = encdec_model(\n",
    "    tmp_x.shape,\n",
    "    max_output_sequence_length,\n",
    "    input_vocab_size)\n",
    "\n",
    "encdec_rnn_model.fit(tmp_x, pad_y, batch_size=128, \n",
    "                    epochs=100, validation_split=0.2)\n",
    "\n",
    "# Print prediction(s)\n",
    "print(logits_to_text(encdec_rnn_model.predict(tmp_x[:1])[0], tk))"
   ]
  }
 ],
 "metadata": {
  "kernelspec": {
   "display_name": "Python 3",
   "language": "python",
   "name": "python3"
  },
  "language_info": {
   "codemirror_mode": {
    "name": "ipython",
    "version": 3
   },
   "file_extension": ".py",
   "mimetype": "text/x-python",
   "name": "python",
   "nbconvert_exporter": "python",
   "pygments_lexer": "ipython3",
   "version": "3.6.6"
  }
 },
 "nbformat": 4,
 "nbformat_minor": 2
}
